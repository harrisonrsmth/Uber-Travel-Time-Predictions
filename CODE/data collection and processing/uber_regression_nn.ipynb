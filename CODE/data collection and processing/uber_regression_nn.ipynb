{
 "cells": [
  {
   "cell_type": "code",
   "execution_count": 27,
   "metadata": {},
   "outputs": [],
   "source": [
    "import torch\n",
    "import torch.nn as nn\n",
    "import torch.nn.functional as F\n",
    "import matplotlib.pyplot as plt\n",
    "import numpy as np\n",
    "import pandas as pd\n",
    "import os"
   ]
  },
  {
   "cell_type": "code",
   "execution_count": 72,
   "metadata": {},
   "outputs": [
    {
     "name": "stdout",
     "output_type": "stream",
     "text": [
      "          distance  day_of_week  hour_bucket      temp    precip  wind_speed  \\\n",
      "0        -0.179978    -0.612504    -0.592143 -0.646645 -0.482898   -0.411618   \n",
      "1        -0.176209    -0.515786    -0.393406 -0.639491  0.185643   -0.393303   \n",
      "2        -0.176209    -0.515786    -0.312704 -0.639523  0.082063   -0.389406   \n",
      "3        -0.176209    -0.498451    -0.554809 -0.638728 -0.041466   -0.399390   \n",
      "4        -0.176209    -0.498451    -0.474108 -0.638044  0.318381   -0.397686   \n",
      "...            ...          ...          ...       ...       ...         ...   \n",
      "12168148 -0.010657    -0.138057    -0.430459 -0.006315  0.003082   -0.128694   \n",
      "12168149 -0.010657    -0.269445     0.128419 -0.077553  0.052546   -0.015224   \n",
      "12168150 -0.010657    -0.138057     0.128419  0.127475 -0.013168   -0.141301   \n",
      "12168151 -0.010657    -0.269445    -0.430459 -0.016957 -0.013168   -0.090082   \n",
      "12168152 -0.010657    -0.269445    -0.430459 -0.092975 -0.013168   -0.167306   \n",
      "\n",
      "          mean_travel_time  \n",
      "0                  1090.14  \n",
      "1                  1465.83  \n",
      "2                  1362.29  \n",
      "3                  1108.86  \n",
      "4                  1489.67  \n",
      "...                    ...  \n",
      "12168148            979.67  \n",
      "12168149            819.33  \n",
      "12168150            859.50  \n",
      "12168151            718.14  \n",
      "12168152            952.00  \n",
      "\n",
      "[12168153 rows x 7 columns]\n",
      "<class 'numpy.ndarray'>\n",
      "<class 'numpy.ndarray'>\n",
      "<class 'torch.Tensor'>\n",
      "<class 'torch.Tensor'>\n",
      "<class 'torch.utils.data.dataset.Subset'>\n",
      "9734522\n",
      "2433631\n"
     ]
    }
   ],
   "source": [
    "#load dataset and init dataloader\n",
    "df = pd.read_parquet(\"final_data_parquet.parquet\")\n",
    "print(df)\n",
    "data = df.to_numpy()\n",
    "\n",
    "# x_numpy = data[:,np.r_[0:2, 5:10]]\n",
    "x_numpy = data[:,0:6]\n",
    "y_numpy = data[:,6]\n",
    "# print(x_numpy)\n",
    "\n",
    "print(type(x_numpy))\n",
    "print(type(y_numpy))\n",
    "\n",
    "x_tensor = torch.from_numpy(x_numpy.astype(np.float32))\n",
    "y_tensor = torch.from_numpy(y_numpy.astype(np.float32))\n",
    "\n",
    "print(type(x_tensor))\n",
    "print(type(y_tensor))\n",
    "\n",
    "dataset = torch.utils.data.TensorDataset(x_tensor, y_tensor)\n",
    "train_size = int(0.8 * len(dataset))\n",
    "test_size = len(dataset) - train_size\n",
    "train_dataset, test_dataset = torch.utils.data.random_split(dataset, [train_size, test_size])\n",
    "\n",
    "batch_size = 4096\n",
    "train_DL = torch.utils.data.DataLoader(train_dataset, shuffle=True, batch_size=batch_size)\n",
    "print(type(train_dataset))\n",
    "\n",
    "print(train_size)\n",
    "print(test_size)"
   ]
  },
  {
   "cell_type": "code",
   "execution_count": 73,
   "metadata": {},
   "outputs": [
    {
     "name": "stdout",
     "output_type": "stream",
     "text": [
      "Inputs: torch.Size([4096, 6])\n",
      "Targets: torch.Size([4096])\n"
     ]
    }
   ],
   "source": [
    "#show sample\n",
    "sample = next(iter(train_DL))\n",
    "print('Inputs:', sample[0].shape)\n",
    "print('Targets:', sample[1].shape)"
   ]
  },
  {
   "cell_type": "code",
   "execution_count": 81,
   "metadata": {},
   "outputs": [],
   "source": [
    "#num features\n",
    "nf = 64\n",
    "\n",
    "#use GPU if available \n",
    "device = torch.device('cuda:0' if torch.cuda.is_available() else 'cpu')\n",
    "\n",
    "#Build convolutional neural network\n",
    "class Uber_reg(nn.Module):\n",
    "    def __init__(self):\n",
    "        super(Uber_reg, self).__init__() #init Uber_reg's superclass\n",
    "        \n",
    "        self.lin = nn.Sequential(\n",
    "            nn.Linear(6, 64), #out 64 features\n",
    "            # nn.BatchNorm2d(nf), \n",
    "            nn.LeakyReLU(0.01, inplace=True),\n",
    "            \n",
    "            nn.Linear(64, 32), #out 32\n",
    "            # nn.BatchNorm2d(nf*2), #same as output channels\n",
    "            nn.LeakyReLU(0.01, inplace=True),\n",
    "            \n",
    "            nn.Linear(32, 16), #out 16\n",
    "            # nn.BatchNorm2d(nf*4),\n",
    "            nn.LeakyReLU(0.01, inplace=True),\n",
    "            \n",
    "            nn.Linear(16, 8), #out 8\n",
    "            # nn.BatchNorm2d(nf*2),\n",
    "            nn.LeakyReLU(0.01, inplace=True),\n",
    "            \n",
    "            nn.Linear(8, 4), #out 4\n",
    "            # nn.BatchNorm2d(nf),\n",
    "            nn.LeakyReLU(0.01, inplace=True),\n",
    "\n",
    "            nn.Linear(4, 2), #out 2\n",
    "            nn.LeakyReLU(0.01, inplace=True),\n",
    "\n",
    "            nn.Linear(2, 1), #out 1\n",
    "            nn.LeakyReLU(0.01, inplace=True)\n",
    "        )\n",
    "        \n",
    "    def forward(self, x):\n",
    "        # print(1, x.shape)\n",
    "        #reshape for dummy data with 1 feature\n",
    "        # x = x.reshape((x.shape[0], 1))\n",
    "        # print(2, x.shape)\n",
    "        x = self.lin(x)\n",
    "        # print(3, x.shape)\n",
    "        return x\n"
   ]
  },
  {
   "cell_type": "code",
   "execution_count": 82,
   "metadata": {},
   "outputs": [
    {
     "name": "stdout",
     "output_type": "stream",
     "text": [
      "Uber_reg(\n",
      "  (lin): Sequential(\n",
      "    (0): Linear(in_features=6, out_features=64, bias=True)\n",
      "    (1): LeakyReLU(negative_slope=0.01, inplace=True)\n",
      "    (2): Linear(in_features=64, out_features=32, bias=True)\n",
      "    (3): LeakyReLU(negative_slope=0.01, inplace=True)\n",
      "    (4): Linear(in_features=32, out_features=16, bias=True)\n",
      "    (5): LeakyReLU(negative_slope=0.01, inplace=True)\n",
      "    (6): Linear(in_features=16, out_features=8, bias=True)\n",
      "    (7): LeakyReLU(negative_slope=0.01, inplace=True)\n",
      "    (8): Linear(in_features=8, out_features=4, bias=True)\n",
      "    (9): LeakyReLU(negative_slope=0.01, inplace=True)\n",
      "    (10): Linear(in_features=4, out_features=2, bias=True)\n",
      "    (11): LeakyReLU(negative_slope=0.01, inplace=True)\n",
      "    (12): Linear(in_features=2, out_features=1, bias=True)\n",
      "    (13): LeakyReLU(negative_slope=0.01, inplace=True)\n",
      "  )\n",
      ")\n"
     ]
    },
    {
     "data": {
      "text/plain": [
       "torch.Size([4096, 1])"
      ]
     },
     "execution_count": 82,
     "metadata": {},
     "output_type": "execute_result"
    }
   ],
   "source": [
    "#initialize and test network\n",
    "net = Uber_reg().to(device)\n",
    "print(net)\n",
    "net(sample[0].to(device)).shape"
   ]
  },
  {
   "cell_type": "code",
   "execution_count": 83,
   "metadata": {},
   "outputs": [],
   "source": [
    "#initialize error function and optimizer\n",
    "opt = torch.optim.Adam(net.parameters(), betas=(0.9, 0.999), lr = 0.001)\n",
    "error = torch.nn.MSELoss()"
   ]
  },
  {
   "cell_type": "code",
   "execution_count": 84,
   "metadata": {},
   "outputs": [],
   "source": [
    "#initialize test dataloader\n",
    "batch_size = 256\n",
    "test_DL = torch.utils.data.DataLoader(test_dataset, shuffle=True, batch_size=batch_size)"
   ]
  },
  {
   "cell_type": "code",
   "execution_count": 85,
   "metadata": {},
   "outputs": [
    {
     "name": "stdout",
     "output_type": "stream",
     "text": [
      "TRAINING     Epoch: 1/10     Iter: 0     Loss: 1049452.25\n",
      "TRAINING     Epoch: 1/10     Iter: 1000     Loss: 342071.27764423075\n",
      "TRAINING     Epoch: 1/10     Iter: 2000     Loss: 225091.9556784108\n",
      "TESTING      Epoch: 1/10     Iter: 3000     Loss: 104813.28486202925\n",
      "TESTING      Epoch: 1/10     Iter: 4000     Loss: 104864.43297558113\n",
      "TESTING      Epoch: 1/10     Iter: 5000     Loss: 104489.84835145532\n",
      "TESTING      Epoch: 1/10     Iter: 6000     Loss: 104639.75013473544\n",
      "TESTING      Epoch: 1/10     Iter: 7000     Loss: 104515.50754217128\n",
      "TESTING      Epoch: 1/10     Iter: 8000     Loss: 104575.43937602796\n",
      "TESTING      Epoch: 1/10     Iter: 9000     Loss: 104587.3672989555\n",
      "TESTING      Epoch: 1/10     Iter: 10000     Loss: 104596.36232569435\n",
      "TESTING      Epoch: 1/10     Iter: 11000     Loss: 104524.84192868376\n",
      "TRAINING     Epoch: 2/10     Iter: 12000     Loss: 201321.20824040196\n",
      "TRAINING     Epoch: 2/10     Iter: 13000     Loss: 173150.49280462938\n",
      "TRAINING     Epoch: 2/10     Iter: 14000     Loss: 157075.3944234674\n",
      "TESTING      Epoch: 2/10     Iter: 15000     Loss: 104118.99002566299\n",
      "TESTING      Epoch: 2/10     Iter: 16000     Loss: 103792.24271923902\n",
      "TESTING      Epoch: 2/10     Iter: 17000     Loss: 103519.67171807382\n",
      "TESTING      Epoch: 2/10     Iter: 18000     Loss: 103134.93848459792\n",
      "TESTING      Epoch: 2/10     Iter: 19000     Loss: 102905.5156729816\n",
      "TESTING      Epoch: 2/10     Iter: 20000     Loss: 102653.47912755379\n",
      "TESTING      Epoch: 2/10     Iter: 21000     Loss: 102426.72484583693\n",
      "TESTING      Epoch: 2/10     Iter: 22000     Loss: 102249.78155440076\n",
      "TESTING      Epoch: 2/10     Iter: 23000     Loss: 102060.06404134927\n",
      "TRAINING     Epoch: 3/10     Iter: 24000     Loss: 151381.1378960297\n",
      "TRAINING     Epoch: 3/10     Iter: 25000     Loss: 142566.58401536662\n",
      "TRAINING     Epoch: 3/10     Iter: 26000     Loss: 136119.42886007047\n",
      "TESTING      Epoch: 3/10     Iter: 27000     Loss: 101768.71264488708\n",
      "TESTING      Epoch: 3/10     Iter: 28000     Loss: 101560.53131588404\n",
      "TESTING      Epoch: 3/10     Iter: 29000     Loss: 101360.14357531721\n",
      "TESTING      Epoch: 3/10     Iter: 30000     Loss: 101173.02258946627\n",
      "TESTING      Epoch: 3/10     Iter: 31000     Loss: 100980.50132913962\n",
      "TESTING      Epoch: 3/10     Iter: 32000     Loss: 100810.14520255328\n",
      "TESTING      Epoch: 3/10     Iter: 33000     Loss: 100661.46403683079\n",
      "TESTING      Epoch: 3/10     Iter: 34000     Loss: 100532.20870496256\n",
      "TESTING      Epoch: 3/10     Iter: 35000     Loss: 100418.77089444295\n",
      "TRAINING     Epoch: 4/10     Iter: 36000     Loss: 133563.52089112633\n",
      "TRAINING     Epoch: 4/10     Iter: 37000     Loss: 129071.04695330925\n",
      "TRAINING     Epoch: 4/10     Iter: 38000     Loss: 125371.13301770174\n",
      "TESTING      Epoch: 4/10     Iter: 39000     Loss: 100115.0422560544\n",
      "TESTING      Epoch: 4/10     Iter: 40000     Loss: 99919.05905389659\n",
      "TESTING      Epoch: 4/10     Iter: 41000     Loss: 99693.37877315991\n",
      "TESTING      Epoch: 4/10     Iter: 42000     Loss: 99485.4546092139\n",
      "TESTING      Epoch: 4/10     Iter: 43000     Loss: 99312.80325891325\n",
      "TESTING      Epoch: 4/10     Iter: 44000     Loss: 99144.45877820771\n",
      "TESTING      Epoch: 4/10     Iter: 45000     Loss: 98970.55540033862\n",
      "TESTING      Epoch: 4/10     Iter: 46000     Loss: 98800.19831853455\n",
      "TESTING      Epoch: 4/10     Iter: 47000     Loss: 98650.75813464346\n",
      "TRAINING     Epoch: 5/10     Iter: 48000     Loss: 123775.71380383286\n",
      "TRAINING     Epoch: 5/10     Iter: 49000     Loss: 120921.07031321198\n",
      "TESTING      Epoch: 5/10     Iter: 50000     Loss: 98557.72129681022\n",
      "TESTING      Epoch: 5/10     Iter: 51000     Loss: 98391.50165593204\n",
      "TESTING      Epoch: 5/10     Iter: 52000     Loss: 98232.52049125894\n",
      "TESTING      Epoch: 5/10     Iter: 53000     Loss: 98068.19102537258\n",
      "TESTING      Epoch: 5/10     Iter: 54000     Loss: 97905.07678838282\n",
      "TESTING      Epoch: 5/10     Iter: 55000     Loss: 97769.18892411968\n",
      "TESTING      Epoch: 5/10     Iter: 56000     Loss: 97629.27871354073\n",
      "TESTING      Epoch: 5/10     Iter: 57000     Loss: 97500.18568280932\n",
      "TESTING      Epoch: 5/10     Iter: 58000     Loss: 97376.3848663391\n",
      "TESTING      Epoch: 5/10     Iter: 59000     Loss: 97241.56921340084\n",
      "TRAINING     Epoch: 6/10     Iter: 60000     Loss: 117439.53374052423\n",
      "TRAINING     Epoch: 6/10     Iter: 61000     Loss: 115501.68485966972\n",
      "TESTING      Epoch: 6/10     Iter: 62000     Loss: 97159.61704479696\n",
      "TESTING      Epoch: 6/10     Iter: 63000     Loss: 97025.88904371372\n",
      "TESTING      Epoch: 6/10     Iter: 64000     Loss: 96898.91814278346\n",
      "TESTING      Epoch: 6/10     Iter: 65000     Loss: 96771.02614336666\n",
      "TESTING      Epoch: 6/10     Iter: 66000     Loss: 96650.56772793795\n",
      "TESTING      Epoch: 6/10     Iter: 67000     Loss: 96552.9193350746\n",
      "TESTING      Epoch: 6/10     Iter: 68000     Loss: 96441.16957358425\n",
      "TESTING      Epoch: 6/10     Iter: 69000     Loss: 96343.06836319284\n",
      "TESTING      Epoch: 6/10     Iter: 70000     Loss: 96246.34154265583\n",
      "TESTING      Epoch: 6/10     Iter: 71000     Loss: 96150.79290224482\n",
      "TRAINING     Epoch: 7/10     Iter: 72000     Loss: 113050.66085372937\n",
      "TRAINING     Epoch: 7/10     Iter: 73000     Loss: 111653.729642169\n",
      "TESTING      Epoch: 7/10     Iter: 74000     Loss: 96099.36369678532\n",
      "TESTING      Epoch: 7/10     Iter: 75000     Loss: 95997.51670948937\n",
      "TESTING      Epoch: 7/10     Iter: 76000     Loss: 95895.40108511916\n",
      "TESTING      Epoch: 7/10     Iter: 77000     Loss: 95806.8154398152\n",
      "TESTING      Epoch: 7/10     Iter: 78000     Loss: 95724.0926292178\n",
      "TESTING      Epoch: 7/10     Iter: 79000     Loss: 95629.10552199256\n",
      "TESTING      Epoch: 7/10     Iter: 80000     Loss: 95541.46893747682\n",
      "TESTING      Epoch: 7/10     Iter: 81000     Loss: 95462.6584509906\n",
      "TESTING      Epoch: 7/10     Iter: 82000     Loss: 95384.8434370195\n",
      "TESTING      Epoch: 7/10     Iter: 83000     Loss: 95318.24326033253\n",
      "TRAINING     Epoch: 8/10     Iter: 84000     Loss: 109832.48888513852\n",
      "TRAINING     Epoch: 8/10     Iter: 85000     Loss: 108769.66255267044\n",
      "TESTING      Epoch: 8/10     Iter: 86000     Loss: 95271.98790470815\n",
      "TESTING      Epoch: 8/10     Iter: 87000     Loss: 95191.98479920892\n",
      "TESTING      Epoch: 8/10     Iter: 88000     Loss: 95124.35001659102\n",
      "TESTING      Epoch: 8/10     Iter: 89000     Loss: 95055.52208051279\n",
      "TESTING      Epoch: 8/10     Iter: 90000     Loss: 94989.18374425494\n",
      "TESTING      Epoch: 8/10     Iter: 91000     Loss: 94909.26606769205\n",
      "TESTING      Epoch: 8/10     Iter: 92000     Loss: 94835.92607278036\n",
      "TESTING      Epoch: 8/10     Iter: 93000     Loss: 94776.32745626225\n",
      "TESTING      Epoch: 8/10     Iter: 94000     Loss: 94710.50461217243\n",
      "TESTING      Epoch: 8/10     Iter: 95000     Loss: 94650.58853777678\n",
      "TRAINING     Epoch: 9/10     Iter: 96000     Loss: 107364.93267422913\n",
      "TRAINING     Epoch: 9/10     Iter: 97000     Loss: 106535.38284159405\n",
      "TESTING      Epoch: 9/10     Iter: 98000     Loss: 94607.00456682681\n",
      "TESTING      Epoch: 9/10     Iter: 99000     Loss: 94554.60864929759\n",
      "TESTING      Epoch: 9/10     Iter: 100000     Loss: 94492.4186521251\n",
      "TESTING      Epoch: 9/10     Iter: 101000     Loss: 94431.46924613223\n",
      "TESTING      Epoch: 9/10     Iter: 102000     Loss: 94375.01809334992\n",
      "TESTING      Epoch: 9/10     Iter: 103000     Loss: 94323.8130213088\n",
      "TESTING      Epoch: 9/10     Iter: 104000     Loss: 94273.1386060048\n",
      "TESTING      Epoch: 9/10     Iter: 105000     Loss: 94218.0216031398\n",
      "TESTING      Epoch: 9/10     Iter: 106000     Loss: 94168.96515252694\n",
      "TRAINING     Epoch: 10/10     Iter: 107000     Loss: 106150.55012127997\n",
      "TRAINING     Epoch: 10/10     Iter: 108000     Loss: 105423.79208959131\n",
      "TRAINING     Epoch: 10/10     Iter: 109000     Loss: 104735.04455538282\n",
      "TESTING      Epoch: 10/10     Iter: 110000     Loss: 94081.7283113001\n",
      "TESTING      Epoch: 10/10     Iter: 111000     Loss: 94022.79181041215\n",
      "TESTING      Epoch: 10/10     Iter: 112000     Loss: 93974.4748456378\n",
      "TESTING      Epoch: 10/10     Iter: 113000     Loss: 93925.08930012937\n",
      "TESTING      Epoch: 10/10     Iter: 114000     Loss: 93885.37089014931\n",
      "TESTING      Epoch: 10/10     Iter: 115000     Loss: 93839.52886628448\n",
      "TESTING      Epoch: 10/10     Iter: 116000     Loss: 93799.46270916401\n",
      "TESTING      Epoch: 10/10     Iter: 117000     Loss: 93744.85863012639\n",
      "TESTING      Epoch: 10/10     Iter: 118000     Loss: 93699.33307526849\n"
     ]
    }
   ],
   "source": [
    "#training parameters\n",
    "epochs = 10\n",
    "iters = 0\n",
    "iters_cycle = 1000\n",
    "\n",
    "#save losses\n",
    "train_losses = []\n",
    "test_losses = []\n",
    "train_avg_losses = []\n",
    "test_avg_losses = []\n",
    "\n",
    "#train\n",
    "for epoch in range(epochs):\n",
    "    #set model to training mode\n",
    "    net.train()\n",
    "    #iterate through dataloader\n",
    "    for batch in train_DL:\n",
    "        #separate batch into targets and inputs\n",
    "        inputs = batch[0].to(device)\n",
    "        targets = batch[1]\n",
    "        targets = targets.reshape((targets.shape[0], 1))\n",
    "                \n",
    "        #make predictions\n",
    "        pred = net(inputs)\n",
    "        \n",
    "        #calculate loss\n",
    "        loss = error(pred, targets)\n",
    "        \n",
    "        #backpropagate gradients with Adam algorithm\n",
    "        loss.backward()\n",
    "        opt.step()\n",
    "        \n",
    "        #set gradients to zero\n",
    "        net.zero_grad()\n",
    "        \n",
    "        #save losses\n",
    "        train_losses.append(loss.item())\n",
    "        train_avg_losses.append(np.mean(train_losses))\n",
    "        \n",
    "        #log progress\n",
    "        if iters % iters_cycle == 0:    \n",
    "            print('TRAINING     Epoch: {}/{}     Iter: {}     Loss: {}'.format(epoch + 1, epochs, iters, np.mean(train_losses)))\n",
    "        iters +=1\n",
    "\n",
    "    #set model to evaluation mode\n",
    "    net.eval()\n",
    "    for batch in test_DL:\n",
    "        #separate batch into targets and inputs\n",
    "        inputs = batch[0].to(device)\n",
    "        targets = batch[1].to(device)\n",
    "        targets = targets.reshape((targets.shape[0], 1))\n",
    "                \n",
    "        #make predictions\n",
    "        with torch.no_grad():\n",
    "            pred = net(inputs)\n",
    "        \n",
    "        #calculate loss\n",
    "        opt.zero_grad()\n",
    "        loss = error(pred, targets)\n",
    "        \n",
    "        #save losses\n",
    "        test_losses.append(loss.item())\n",
    "        test_avg_losses.append(np.mean(test_losses))\n",
    "        \n",
    "        #log progress\n",
    "        if iters % iters_cycle == 0:    \n",
    "            print('TESTING      Epoch: {}/{}     Iter: {}     Loss: {}'.format(epoch + 1, epochs, iters, np.mean(test_losses)))\n",
    "        iters +=1"
   ]
  },
  {
   "cell_type": "code",
   "execution_count": 88,
   "metadata": {},
   "outputs": [
    {
     "data": {
      "text/plain": [
       "[<matplotlib.lines.Line2D at 0x7ffb619f7730>]"
      ]
     },
     "execution_count": 88,
     "metadata": {},
     "output_type": "execute_result"
    },
    {
     "data": {
      "image/png": "[encoded data removed]",
      "text/plain": [
       "<Figure size 432x288 with 1 Axes>"
      ]
     },
     "metadata": {
      "needs_background": "light"
     },
     "output_type": "display_data"
    }
   ],
   "source": [
    "#plot loss curve \n",
    "# plt.plot(train_avg_losses)\n",
    "plt.plot(test_avg_losses)"
   ]
  },
  {
   "cell_type": "code",
   "execution_count": 70,
   "metadata": {},
   "outputs": [],
   "source": [
    "#define the path to save/load the model\n",
    "model_dir = 'checkpoints/'\n",
    "\n",
    "def save_model(model_dir):\n",
    "    #saves the model state and optimizer state on the dict\n",
    "    if not os.path.exists(model_dir):\n",
    "        os.mkdir(model_dir)\n",
    "    torch.save({\n",
    "        'model_state_dict': net.state_dict(),\n",
    "        'optimizer_state_dict': opt.state_dict()\n",
    "    }, os.path.join(model_dir, 'checkpoint.pt'))\n",
    "    print('model saved at', model_dir + 'checkpoint.pt')\n",
    "\n",
    "def load_model(model_dir, load_optimizer=False):\n",
    "    #load the model from the disk if it exists, skip if you don't need this part\n",
    "    if os.path.exists(model_dir):\n",
    "        checkpoint = torch.load(os.path.join(model_dir, 'checkpoint.pt'))\n",
    "        net.load_state_dict(checkpoint['model_state_dict'])\n",
    "        if load_optimizer:\n",
    "            opt.load_state_dict(checkpoint['optimizer_state_dict'])\n",
    "        print('loaded model from saved checkpoint')"
   ]
  },
  {
   "cell_type": "code",
   "execution_count": 71,
   "metadata": {},
   "outputs": [
    {
     "name": "stdout",
     "output_type": "stream",
     "text": [
      "model saved at checkpoints/checkpoint4.pt\n"
     ]
    }
   ],
   "source": [
    "save_model(model_dir)\n",
    "# load_model(model_dir)"
   ]
  },
  {
   "cell_type": "code",
   "execution_count": 106,
   "metadata": {},
   "outputs": [],
   "source": [
    "#Evaluate accuracy using predictions\n",
    "def testAccuracy(model, test_set, cpu = 'False'):\n",
    "    #set device\n",
    "    if cpu == True:\n",
    "        dev = torch.device('cpu')\n",
    "    else:\n",
    "        dev = torch.device('cuda:0')\n",
    "    model = model.to(dev)\n",
    "    test_inputs = test_set[0].to(dev)\n",
    "    test_targets = test_set[1].to(dev)\n",
    "    \n",
    "    #make predictions\n",
    "    with torch.no_grad(): \n",
    "        model_pred = model(test_inputs).cpu().numpy() \n",
    "        \n",
    "    #Count number of correct predictions    \n",
    "    correct = 0\n",
    "    total = test_targets.shape[0]\n",
    "    for i, prediction in enumerate(model_pred):\n",
    "        if test_targets[i]==np.argmax(prediction):\n",
    "            correct += 1\n",
    "            \n",
    "    #revert model to global device\n",
    "    model=model.to(device)\n",
    "    \n",
    "    #print accuracy\n",
    "    return print('Accuracy across {} samples: {}%'.format(test_targets.shape[0], correct/total*100))"
   ]
  },
  {
   "cell_type": "code",
   "execution_count": 107,
   "metadata": {
    "scrolled": true
   },
   "outputs": [
    {
     "name": "stdout",
     "output_type": "stream",
     "text": [
      "Accuracy across 50 samples: 0.0%\n"
     ]
    }
   ],
   "source": [
    "#Evaluate accuracy on test set\n",
    "test_set = next(iter(test_DL))\n",
    "testAccuracy(net, test_set, cpu = True)"
   ]
  },
  {
   "cell_type": "code",
   "execution_count": 104,
   "metadata": {},
   "outputs": [
    {
     "name": "stdout",
     "output_type": "stream",
     "text": [
      "Target: 1212.0\n",
      "Prediction: 997.8786010742188\n"
     ]
    }
   ],
   "source": [
    "#display sample with label and prediction\n",
    "sample = next(iter(test_DL))\n",
    "print('Target:', sample[1][0].item())\n",
    "print('Prediction:', net(sample[0][0].to(device))[0].item())\n",
    "# plt.imshow(sample[0][0,0])"
   ]
  },
  {
   "cell_type": "code",
   "execution_count": 45,
   "metadata": {},
   "outputs": [
    {
     "name": "stdout",
     "output_type": "stream",
     "text": [
      "907.6471557617188\n"
     ]
    }
   ],
   "source": [
    "test_sample = [130, 24, 2020, 3, 12, 5, 1, 63.25, 0, 5.25, 0, 0]\n",
    "test_pred = np.array([test_sample])\n",
    "test_pred_tensor = torch.from_numpy(test_pred.astype(np.float32))\n",
    "prediction = net(test_pred_tensor.to(device))[0].item()\n",
    "print(prediction)"
   ]
  },
  {
   "cell_type": "code",
   "execution_count": null,
   "metadata": {},
   "outputs": [],
   "source": []
  }
 ],
 "metadata": {
  "kernelspec": {
   "display_name": "Python 3",
   "language": "python",
   "name": "python3"
  },
  "language_info": {
   "codemirror_mode": {
    "name": "ipython",
    "version": 3
   },
   "file_extension": ".py",
   "mimetype": "text/x-python",
   "name": "python",
   "nbconvert_exporter": "python",
   "pygments_lexer": "ipython3",
   "version": "3.8.0"
  }
 },
 "nbformat": 4,
 "nbformat_minor": 2
}
